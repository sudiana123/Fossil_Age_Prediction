{
 "cells": [
  {
   "cell_type": "code",
   "execution_count": 10,
   "metadata": {},
   "outputs": [
    {
     "name": "stdout",
     "output_type": "stream",
     "text": [
      "numpy: 2.1.0\n",
      "pandas: 2.2.2\n",
      "scikit-learn: 1.5.1\n"
     ]
    }
   ],
   "source": [
    "import numpy\n",
    "print('numpy:', numpy.__version__)\n",
    "\n",
    "import pandas\n",
    "print('pandas:', pandas.__version__)\n",
    "\n",
    "import sklearn\n",
    "print('scikit-learn:', sklearn.__version__)"
   ]
  },
  {
   "cell_type": "code",
   "execution_count": 11,
   "metadata": {},
   "outputs": [
    {
     "name": "stdout",
     "output_type": "stream",
     "text": [
      "   uranium_lead_ratio  carbon_14_ratio  radioactive_decay_series  \\\n",
      "0            0.738061         0.487707                  0.907884   \n",
      "1            0.560096         0.341738                  1.121302   \n",
      "2            0.424773         0.218493                  0.103855   \n",
      "3            0.349958         0.704649                  0.383617   \n",
      "4            0.886811         0.777494                  0.593254   \n",
      "\n",
      "   stratigraphic_layer_depth  geological_period  paleomagnetic_data  \\\n",
      "0                      91.17                  2                   1   \n",
      "1                     165.44                  0                   1   \n",
      "2                     218.98                  0                   1   \n",
      "3                      51.09                  8                   1   \n",
      "4                     313.72                  3                   1   \n",
      "\n",
      "   inclusion_of_other_fossils  isotopic_composition  surrounding_rock_type  \\\n",
      "0                           0              0.915951                      1   \n",
      "1                           0              0.803968                      2   \n",
      "2                           1              0.792441                      3   \n",
      "3                           1              0.074636                      2   \n",
      "4                           1              1.646640                      3   \n",
      "\n",
      "   stratigraphic_position  fossil_size  fossil_weight    age  \n",
      "0                       2        50.65         432.00  43523  \n",
      "1                       1        48.85         353.29  44112  \n",
      "2                       3        37.66         371.33  43480  \n",
      "3                       3        39.10         232.84  30228  \n",
      "4                       1        90.84         277.67  67217  \n"
     ]
    }
   ],
   "source": [
    "import pandas as pd\n",
    "df = pd.read_csv('Age_Fossil.csv')\n",
    "print(df.head())"
   ]
  },
  {
   "cell_type": "code",
   "execution_count": 12,
   "metadata": {},
   "outputs": [],
   "source": [
    "from sklearn.pipeline import make_pipeline\n",
    "from sklearn.preprocessing import StandardScaler\n",
    "from xgboost import XGBRegressor\n",
    "\n",
    "model_numpy = make_pipeline(StandardScaler(), XGBRegressor)"
   ]
  },
  {
   "cell_type": "code",
   "execution_count": 13,
   "metadata": {},
   "outputs": [],
   "source": [
    "model_pandas = make_pipeline(StandardScaler(),  XGBRegressor)"
   ]
  },
  {
   "cell_type": "code",
   "execution_count": 14,
   "metadata": {},
   "outputs": [],
   "source": [
    "import numpy as np\n",
    "X = df.drop(columns=['age'])\n",
    "y = np.log(df['age'])"
   ]
  },
  {
   "cell_type": "code",
   "execution_count": 15,
   "metadata": {},
   "outputs": [
    {
     "name": "stdout",
     "output_type": "stream",
     "text": [
      "Mean Squared Error (MSE): 0.00310158799703181\n",
      "Mean Absolute Error (MAE): 0.04087167552758269\n",
      "R² Score: 0.9800961424532839\n"
     ]
    }
   ],
   "source": [
    "from sklearn.model_selection import train_test_split\n",
    "from sklearn.metrics import mean_squared_error, mean_absolute_error, r2_score\n",
    "import xgboost as xgb\n",
    "import pickle\n",
    "\n",
    "# Membagi data menjadi data pelatihan dan pengujian\n",
    "X_train, X_test, y_train, y_test = train_test_split(X, y, test_size=0.2, random_state=46)\n",
    "\n",
    "# Inisialisasi model XGBoost\n",
    "model_numpy = xgb.XGBRegressor()\n",
    "\n",
    "# Melatih model\n",
    "model_numpy.fit(X_train, y_train)\n",
    "\n",
    "# Memprediksi data pengujian\n",
    "y_pred = model_numpy.predict(X_test)\n",
    "\n",
    "# Menampilkan metrik evaluasi regresi\n",
    "mse = mean_squared_error(y_test, y_pred)\n",
    "mae = mean_absolute_error(y_test, y_pred)\n",
    "r2 = r2_score(y_test, y_pred)\n",
    "\n",
    "print(f\"Mean Squared Error (MSE): {mse}\")\n",
    "print(f\"Mean Absolute Error (MAE): {mae}\")\n",
    "print(f\"R² Score: {r2}\")\n",
    "\n",
    "# Menyimpan model ke dalam file .pkl\n",
    "with open(\"model_numpy.pkl\", \"wb\") as model_file:\n",
    "    pickle.dump(model_numpy, model_file)"
   ]
  },
  {
   "cell_type": "code",
   "execution_count": 16,
   "metadata": {},
   "outputs": [
    {
     "data": {
      "text/plain": [
       "array([10.9949255], dtype=float32)"
      ]
     },
     "execution_count": 16,
     "metadata": {},
     "output_type": "execute_result"
    }
   ],
   "source": [
    "new_data = [1, 2, 3, 4, 5, 6, 7, 8, 9, 10, 11, 12]\n",
    "model_numpy.predict([new_data])"
   ]
  },
  {
   "cell_type": "code",
   "execution_count": 17,
   "metadata": {},
   "outputs": [],
   "source": [
    "import pickle\n",
    "\n",
    "with open(\"model_numpy.pkl\", \"rb\") as model_file:\n",
    "    model = pickle.load(model_file)"
   ]
  },
  {
   "cell_type": "code",
   "execution_count": 18,
   "metadata": {},
   "outputs": [],
   "source": [
    "#new_data = [0.886811, 0.777494, 0.593254, 313.72, 3, 0, 1, 1.646640, 3, 2, 90.84, 277.67]\n",
    "\n",
    "#hasil = model.predict([new_data])\n",
    "#hasil"
   ]
  },
  {
   "cell_type": "code",
   "execution_count": 19,
   "metadata": {},
   "outputs": [
    {
     "data": {
      "text/plain": [
       "[1, 2, 3, 4, 5, 6, 7, 8, 9, 10, 11, 12]"
      ]
     },
     "execution_count": 19,
     "metadata": {},
     "output_type": "execute_result"
    }
   ],
   "source": [
    "#maksudnya angka2 yg ada di dalam array  adalah inputnya\n",
    "new_data = [1, 2, 3, 4, 5, 6, 7, 8, 9, 10, 11, 12]\n",
    "new_data_df = pd.DataFrame([new_data], columns=['uranium_lead_ratio', 'carbon_14_ratio', 'radioactive_decay_series', 'stratigraphic_layer_depth', 'geological_period', \n",
    "                                                'paleomagnetic_data', 'inclusion_of_other_fossils', 'isotopic_composition', \n",
    "                                                'surrounding_rock_type', \n",
    "                                                'stratigraphic_position', 'fossil_size', 'fossil_weight'])\n",
    "new_data\n",
    "#predictions = model_pandas.predict(new_data_df)\n",
    "#print(predictions)\n"
   ]
  }
 ],
 "metadata": {
  "kernelspec": {
   "display_name": "Python 3",
   "language": "python",
   "name": "python3"
  },
  "language_info": {
   "codemirror_mode": {
    "name": "ipython",
    "version": 3
   },
   "file_extension": ".py",
   "mimetype": "text/x-python",
   "name": "python",
   "nbconvert_exporter": "python",
   "pygments_lexer": "ipython3",
   "version": "3.12.0"
  }
 },
 "nbformat": 4,
 "nbformat_minor": 2
}
